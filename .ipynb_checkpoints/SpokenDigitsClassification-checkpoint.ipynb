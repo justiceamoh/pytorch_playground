{
 "cells": [
  {
   "cell_type": "code",
   "execution_count": 1,
   "metadata": {},
   "outputs": [],
   "source": [
    "%matplotlib inline\n",
    "import IPython.display\n",
    "\n",
    "# Basic Imports\n",
    "import gzip\n",
    "import cPickle as pickle\n",
    "import pandas as pd\n",
    "import random\n",
    "import seaborn\n",
    "# import librosa\n",
    "import sklearn\n",
    "import numpy as np\n",
    "from matplotlib import pyplot as plt\n",
    "\n",
    "# PyTorch\n",
    "import torch\n",
    "import torch.nn as nn\n",
    "import torch.optim as optim\n",
    "import torch.nn.functional as F\n",
    "import torch.utils.data as data_utils\n",
    "from torch.autograd import Variable"
   ]
  },
  {
   "cell_type": "markdown",
   "metadata": {},
   "source": [
    "## Load Data"
   ]
  },
  {
   "cell_type": "code",
   "execution_count": 2,
   "metadata": {},
   "outputs": [
    {
     "name": "stdout",
     "output_type": "stream",
     "text": [
      "File loaded as ../vae/SpokenDigitDB.pkl.gz\n"
     ]
    }
   ],
   "source": [
    "# Loaded Spoken Digits Dataset\n",
    "dbfile ='../vae/SpokenDigitDB.pkl.gz'\n",
    "with gzip.open(dbfile, 'rb') as ifile:\n",
    "    df = pd.read_pickle(ifile)\n",
    "    print('File loaded as '+ dbfile)"
   ]
  },
  {
   "cell_type": "code",
   "execution_count": 3,
   "metadata": {},
   "outputs": [
    {
     "name": "stdout",
     "output_type": "stream",
     "text": [
      "[84]\n"
     ]
    }
   ],
   "source": [
    "# Padding & Truncating\n",
    "maxlen = 84\n",
    "pad    = lambda a, n: a[:,0: n] if a.shape[1] > n else np.hstack((a, np.min(a[:])*np.ones([a.shape[0],n - a.shape[1]])))\n",
    "df.Magnitude = df.Magnitude.apply(pad,args=(maxlen,))  # MaxLen Truncation Voodoo :D\n",
    "print(np.unique([np.shape(x)[1] for x in df.Magnitude]))"
   ]
  },
  {
   "cell_type": "code",
   "execution_count": 4,
   "metadata": {},
   "outputs": [
    {
     "data": {
      "text/html": [
       "\n",
       "                <audio controls=\"controls\" >\n",
       "                    <source src=\"data:audio/wav;base64,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\" type=\"audio/wav\" />\n",
       "                    Your browser does not support the audio element.\n",
       "                </audio>\n",
       "              "
      ],
      "text/plain": [
       "<IPython.lib.display.Audio object>"
      ]
     },
     "execution_count": 4,
     "metadata": {},
     "output_type": "execute_result"
    }
   ],
   "source": [
    "# Random Sample\n",
    "sr = 8000  \n",
    "j  = random.randrange(len(df))\n",
    "IPython.display.Audio(data=df.Wave[j], rate=sr)"
   ]
  },
  {
   "cell_type": "markdown",
   "metadata": {},
   "source": [
    "## Data Preparation"
   ]
  },
  {
   "cell_type": "code",
   "execution_count": 5,
   "metadata": {
    "scrolled": true
   },
   "outputs": [
    {
     "name": "stdout",
     "output_type": "stream",
     "text": [
      "Training Feature size: (335, 64, 84)\n",
      "Training Target  size: (335,)\n",
      "\n",
      "Testing  Feature size: (166, 64, 84)\n",
      "Testing  Target  size: (166,)\n"
     ]
    }
   ],
   "source": [
    "# Prepare Data\n",
    "from sklearn.preprocessing import StandardScaler, MinMaxScaler\n",
    "from sklearn.model_selection import train_test_split\n",
    "\n",
    "# Train Scaler\n",
    "x_data = df.Magnitude.values\n",
    "normsc = np.hstack(x_data)\n",
    "scaler = MinMaxScaler().fit(normsc.T)\n",
    "\n",
    "# Transform Data using Scaler\n",
    "x_data = [scaler.transform(arr.T).T for arr in df.Magnitude.values]\n",
    "x_data = np.dstack(x_data).transpose(2,0,1)\n",
    "\n",
    "# Add Singleton\n",
    "# x_data = x_data[...,None]         # Add singleton class\n",
    "# y_data = pd.get_dummies(df.Class).values # One Hot Encoding\n",
    "y_data = df.Class.cat.codes.values.astype('int')\n",
    "\n",
    "# Shuffle & Split\n",
    "x_train,x_test,y_train,y_test=train_test_split(x_data,y_data,\n",
    "                              test_size=0.33, random_state=32)\n",
    "\n",
    "# Print Dimensions\n",
    "print 'Training Feature size:', x_train.shape\n",
    "print 'Training Target  size:', y_train.shape\n",
    "print ''\n",
    "print 'Testing  Feature size:', x_test.shape\n",
    "print 'Testing  Target  size:', y_test.shape"
   ]
  },
  {
   "cell_type": "code",
   "execution_count": 6,
   "metadata": {},
   "outputs": [],
   "source": [
    "# Create Torch DataLoader\n",
    "# Training Set\n",
    "feats  = torch.from_numpy(x_train)\n",
    "targs  = torch.from_numpy(y_train)\n",
    "dtrain = data_utils.TensorDataset(feats, targs)\n",
    "\n",
    "# Testing Set\n",
    "feats  = torch.from_numpy(x_test)\n",
    "targs  = torch.from_numpy(y_test)\n",
    "dtest  = data_utils.TensorDataset(feats, targs)\n",
    "\n",
    "# Loaders\n",
    "tr_loader = data_utils.DataLoader(dtrain,batch_size=10,shuffle=True,drop_last=True)\n",
    "ts_loader = data_utils.DataLoader(dtest, batch_size=5, shuffle=True,drop_last=True)"
   ]
  },
  {
   "cell_type": "markdown",
   "metadata": {},
   "source": [
    "## Recurrent Network Model"
   ]
  },
  {
   "cell_type": "code",
   "execution_count": 7,
   "metadata": {
    "collapsed": true
   },
   "outputs": [],
   "source": [
    "# Input Dimensions\n",
    "_,fbins,steps = tr_loader.dataset.data_tensor.shape\n",
    "nclass = len(np.unique(tr_loader.dataset.target_tensor))\n",
    "\n",
    "# Parameters\n",
    "L1 = 32\n",
    "L2 = 20\n",
    "L3 = 16\n",
    "\n",
    "num_epochs = 20\n",
    "batch_size = tr_loader.batch_size"
   ]
  },
  {
   "cell_type": "code",
   "execution_count": 8,
   "metadata": {
    "collapsed": true
   },
   "outputs": [],
   "source": [
    "# StateLess\n",
    "class Network(nn.Module):\n",
    "    def __init__(self):\n",
    "        super(Network, self).__init__() \n",
    "        self.gru1 = nn.GRUCell(fbins,L1).double()\n",
    "        self.gru2 = nn.GRUCell(L1,L2).double()\n",
    "        self.fc3  = nn.Linear(L2,L3).double()\n",
    "        self.fc4  = nn.Linear(L3,nclass).double()\n",
    "              \n",
    "    def forward(self,inputs):\n",
    "        h1 = Variable(torch.zeros(1, L1)).double()\n",
    "        h2 = Variable(torch.zeros(1, L2)).double()\n",
    "        for x in inputs:\n",
    "            h1 = self.gru1(x,h1)\n",
    "            h2 = self.gru2(h1,h2)            \n",
    "        ofc3 = F.relu(self.fc3(h2))\n",
    "        out = self.fc4(ofc3)\n",
    "        return out"
   ]
  },
  {
   "cell_type": "code",
   "execution_count": 32,
   "metadata": {
    "collapsed": true
   },
   "outputs": [],
   "source": [
    "# StateFul\n",
    "class Network2(nn.Module):\n",
    "    def __init__(self):\n",
    "        super(Network2, self).__init__() \n",
    "        self.gru1 = nn.GRUCell(fbins,L1).double()\n",
    "        self.gru2 = nn.GRUCell(L1,L2).double()\n",
    "        self.fc3  = nn.Linear(L2,L3).double()\n",
    "        self.fc4  = nn.Linear(L3,nclass).double()\n",
    "        \n",
    "        self.h1   = Variable(torch.zeros(1, L1)).double()\n",
    "        self.h2   = Variable(torch.zeros(1, L2)).double()\n",
    "              \n",
    "    def forward(self,inputs):\n",
    "        h1 = self.h1\n",
    "        h2 = self.h2\n",
    "        for x in inputs:\n",
    "            h1 = self.gru1(x,h1)\n",
    "            h2 = self.gru2(h1,h2)\n",
    "        \n",
    "        self.h1 = h1\n",
    "        self.h2 = h2\n",
    "        \n",
    "        ofc3 = F.relu(self.fc3(self.h2))\n",
    "        out = self.fc4(ofc3)\n",
    "        return out\n",
    "    \n",
    "    def init_hidden(self):\n",
    "        self.h1 = Variable(torch.zeros(1, L1)).double()\n",
    "        self.h2 = Variable(torch.zeros(1, L2)).double()\n",
    "        return"
   ]
  },
  {
   "cell_type": "code",
   "execution_count": 36,
   "metadata": {},
   "outputs": [],
   "source": [
    "# Loss and Optimizer\n",
    "model = Network2()\n",
    "lr    = 1e-3\n",
    "criterion = nn.CrossEntropyLoss()\n",
    "optimizer = torch.optim.Adam(model.parameters(), lr=lr)"
   ]
  },
  {
   "cell_type": "code",
   "execution_count": 37,
   "metadata": {},
   "outputs": [
    {
     "name": "stdout",
     "output_type": "stream",
     "text": [
      "Epoch [1/20], Loss: 2.2925\n",
      "Epoch [2/20], Loss: 2.2337\n",
      "Epoch [3/20], Loss: 2.2246\n",
      "Epoch [4/20], Loss: 2.2445\n",
      "Epoch [5/20], Loss: 2.0657\n",
      "Epoch [6/20], Loss: 1.7517\n",
      "Epoch [7/20], Loss: 1.5179\n",
      "Epoch [8/20], Loss: 1.7324\n",
      "Epoch [9/20], Loss: 2.0176\n",
      "Epoch [10/20], Loss: 2.0413\n",
      "Epoch [11/20], Loss: 2.1895\n",
      "Epoch [12/20], Loss: 1.6557\n",
      "Epoch [13/20], Loss: 1.5920\n",
      "Epoch [14/20], Loss: 1.2620\n",
      "Epoch [15/20], Loss: 1.3822\n",
      "Epoch [16/20], Loss: 1.2661\n",
      "Epoch [17/20], Loss: 1.3792\n",
      "Epoch [18/20], Loss: 1.3578\n",
      "Epoch [19/20], Loss: 1.8078\n",
      "Epoch [20/20], Loss: 1.2015\n",
      "Finished Training\n"
     ]
    }
   ],
   "source": [
    "# Train Model\n",
    "for epoch in range(num_epochs):\n",
    "    model.init_hidden()\n",
    "    for i, (x,y) in enumerate(tr_loader):\n",
    "        x = Variable(x.permute(2,0,1)) \n",
    "        y = Variable(y)   # Make variables\n",
    "\n",
    "        optimizer.zero_grad()     # Zero gradients\n",
    "        out  = model(x)           # Forward\n",
    "        loss = criterion(out,y)   # Compute Loss\n",
    "#         loss.backward()           # Backward\n",
    "        loss.backward(retain_graph=True)           # Backward\n",
    "        optimizer.step()          # Optimize\n",
    "        \n",
    "    print ('Epoch [%d/%d], Loss: %.4f' %(epoch+1, num_epochs, loss.data[0]))\n",
    "\n",
    "print('Finished Training')"
   ]
  }
 ],
 "metadata": {
  "kernelspec": {
   "display_name": "Python 2",
   "language": "python",
   "name": "python2"
  },
  "language_info": {
   "codemirror_mode": {
    "name": "ipython",
    "version": 2
   },
   "file_extension": ".py",
   "mimetype": "text/x-python",
   "name": "python",
   "nbconvert_exporter": "python",
   "pygments_lexer": "ipython2",
   "version": "2.7.14"
  }
 },
 "nbformat": 4,
 "nbformat_minor": 2
}
