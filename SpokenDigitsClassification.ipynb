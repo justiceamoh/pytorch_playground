{
 "cells": [
  {
   "cell_type": "code",
   "execution_count": 1,
   "metadata": {
    "collapsed": true
   },
   "outputs": [],
   "source": [
    "%matplotlib inline\n",
    "import IPython.display\n",
    "\n",
    "# Basic Imports\n",
    "import gzip\n",
    "import cPickle as pickle\n",
    "import pandas as pd\n",
    "import random\n",
    "import seaborn\n",
    "# import librosa\n",
    "import sklearn\n",
    "import numpy as np\n",
    "from matplotlib import pyplot as plt\n",
    "\n",
    "# PyTorch\n",
    "import torch\n",
    "import torch.nn as nn\n",
    "import torch.optim as optim\n",
    "import torch.nn.functional as F\n",
    "import torch.utils.data as data_utils\n",
    "from torch.autograd import Variable"
   ]
  },
  {
   "cell_type": "markdown",
   "metadata": {},
   "source": [
    "## Load Data"
   ]
  },
  {
   "cell_type": "code",
   "execution_count": 2,
   "metadata": {},
   "outputs": [
    {
     "name": "stdout",
     "output_type": "stream",
     "text": [
      "File loaded as ../vae/SpokenDigitDB.pkl.gz\n"
     ]
    }
   ],
   "source": [
    "# Loaded Spoken Digits Dataset\n",
    "dbfile ='../vae/SpokenDigitDB.pkl.gz'\n",
    "with gzip.open(dbfile, 'rb') as ifile:\n",
    "    df = pd.read_pickle(ifile)\n",
    "    print('File loaded as '+ dbfile)"
   ]
  },
  {
   "cell_type": "code",
   "execution_count": 3,
   "metadata": {},
   "outputs": [
    {
     "name": "stdout",
     "output_type": "stream",
     "text": [
      "[84]\n"
     ]
    }
   ],
   "source": [
    "# Padding & Truncating\n",
    "maxlen = 84\n",
    "pad    = lambda a, n: a[:,0: n] if a.shape[1] > n else np.hstack((a, np.min(a[:])*np.ones([a.shape[0],n - a.shape[1]])))\n",
    "df.Magnitude = df.Magnitude.apply(pad,args=(maxlen,))  # MaxLen Truncation Voodoo :D\n",
    "print(np.unique([np.shape(x)[1] for x in df.Magnitude]))"
   ]
  },
  {
   "cell_type": "code",
   "execution_count": 4,
   "metadata": {},
   "outputs": [
    {
     "data": {
      "text/html": [
       "\n",
       "                <audio controls=\"controls\" >\n",
       "                    <source src=\"data:audio/wav;base64,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\" type=\"audio/wav\" />\n",
       "                    Your browser does not support the audio element.\n",
       "                </audio>\n",
       "              "
      ],
      "text/plain": [
       "<IPython.lib.display.Audio object>"
      ]
     },
     "execution_count": 4,
     "metadata": {},
     "output_type": "execute_result"
    }
   ],
   "source": [
    "# Random Sample\n",
    "sr = 8000  \n",
    "j  = random.randrange(len(df))\n",
    "IPython.display.Audio(data=df.Wave[j], rate=sr)"
   ]
  },
  {
   "cell_type": "markdown",
   "metadata": {},
   "source": [
    "## Data Preparation"
   ]
  },
  {
   "cell_type": "code",
   "execution_count": 5,
   "metadata": {
    "scrolled": true
   },
   "outputs": [
    {
     "name": "stdout",
     "output_type": "stream",
     "text": [
      "Training Feature size: (335, 64, 84)\n",
      "Training Target  size: (335,)\n",
      "\n",
      "Testing  Feature size: (166, 64, 84)\n",
      "Testing  Target  size: (166,)\n"
     ]
    }
   ],
   "source": [
    "# Prepare Data\n",
    "from sklearn.preprocessing import StandardScaler, MinMaxScaler\n",
    "from sklearn.model_selection import train_test_split\n",
    "\n",
    "# Train Scaler\n",
    "x_data = df.Magnitude.values\n",
    "normsc = np.hstack(x_data)\n",
    "scaler = MinMaxScaler().fit(normsc.T)\n",
    "\n",
    "# Transform Data using Scaler\n",
    "x_data = [scaler.transform(arr.T).T for arr in df.Magnitude.values]\n",
    "x_data = np.dstack(x_data).transpose(2,0,1)\n",
    "\n",
    "# Add Singleton\n",
    "# x_data = x_data[...,None]         # Add singleton class\n",
    "# y_data = pd.get_dummies(df.Class).values # One Hot Encoding\n",
    "y_data = df.Class.cat.codes.values.astype('int')\n",
    "\n",
    "# Shuffle & Split\n",
    "x_train,x_test,y_train,y_test=train_test_split(x_data,y_data,\n",
    "                              test_size=0.33, random_state=32)\n",
    "\n",
    "# Print Dimensions\n",
    "print 'Training Feature size:', x_train.shape\n",
    "print 'Training Target  size:', y_train.shape\n",
    "print ''\n",
    "print 'Testing  Feature size:', x_test.shape\n",
    "print 'Testing  Target  size:', y_test.shape"
   ]
  },
  {
   "cell_type": "code",
   "execution_count": 6,
   "metadata": {
    "collapsed": true
   },
   "outputs": [],
   "source": [
    "# Create Torch DataLoader\n",
    "# Training Set\n",
    "feats  = torch.from_numpy(x_train)\n",
    "targs  = torch.from_numpy(y_train)\n",
    "dtrain = data_utils.TensorDataset(feats, targs)\n",
    "\n",
    "# Testing Set\n",
    "feats  = torch.from_numpy(x_test)\n",
    "targs  = torch.from_numpy(y_test)\n",
    "dtest  = data_utils.TensorDataset(feats, targs)\n",
    "\n",
    "# Loaders\n",
    "tr_loader = data_utils.DataLoader(dtrain,batch_size=10,shuffle=True,drop_last=True)\n",
    "ts_loader = data_utils.DataLoader(dtest, batch_size=5, shuffle=True,drop_last=True)"
   ]
  },
  {
   "cell_type": "markdown",
   "metadata": {},
   "source": [
    "## Recurrent Network Model"
   ]
  },
  {
   "cell_type": "code",
   "execution_count": 7,
   "metadata": {
    "collapsed": true
   },
   "outputs": [],
   "source": [
    "# Input Dimensions\n",
    "_,fbins,steps = tr_loader.dataset.data_tensor.shape\n",
    "nclass = len(np.unique(tr_loader.dataset.target_tensor))\n",
    "\n",
    "# Parameters\n",
    "L1 = 32\n",
    "L2 = 20\n",
    "L3 = 16\n",
    "\n",
    "num_epochs = 20\n",
    "batch_size = tr_loader.batch_size"
   ]
  },
  {
   "cell_type": "code",
   "execution_count": 8,
   "metadata": {
    "collapsed": true
   },
   "outputs": [],
   "source": [
    "# StateLess\n",
    "class Network(nn.Module):\n",
    "    def __init__(self):\n",
    "        super(Network, self).__init__() \n",
    "        self.gru1 = nn.GRUCell(fbins,L1).double()\n",
    "        self.gru2 = nn.GRUCell(L1,L2).double()\n",
    "        self.fc3  = nn.Linear(L2,L3).double()\n",
    "        self.fc4  = nn.Linear(L3,nclass).double()\n",
    "              \n",
    "    def forward(self,inputs):\n",
    "        h1 = Variable(torch.zeros(1, L1)).double()\n",
    "        h2 = Variable(torch.zeros(1, L2)).double()\n",
    "        for x in inputs:\n",
    "            h1 = self.gru1(x,h1)\n",
    "            h2 = self.gru2(h1,h2)            \n",
    "        ofc3 = F.relu(self.fc3(h2))\n",
    "        out = self.fc4(ofc3)\n",
    "        return out"
   ]
  },
  {
   "cell_type": "code",
   "execution_count": 9,
   "metadata": {
    "collapsed": true
   },
   "outputs": [],
   "source": [
    "# StateFul\n",
    "class Network2(nn.Module):\n",
    "    def __init__(self):\n",
    "        super(Network2, self).__init__() \n",
    "        self.gru1 = nn.GRUCell(fbins,L1).double()\n",
    "        self.gru2 = nn.GRUCell(L1,L2).double()\n",
    "        self.fc3  = nn.Linear(L2,L3).double()\n",
    "        self.fc4  = nn.Linear(L3,nclass).double()\n",
    "        \n",
    "        self.h1   = Variable(torch.zeros(1, L1)).double()\n",
    "        self.h2   = Variable(torch.zeros(1, L2)).double()\n",
    "              \n",
    "    def forward(self,inputs):\n",
    "        h1 = self.h1\n",
    "        h2 = self.h2\n",
    "        for x in inputs:\n",
    "            h1 = self.gru1(x,h1)\n",
    "            h2 = self.gru2(h1,h2)\n",
    "        \n",
    "        self.h1 = h1\n",
    "        self.h2 = h2\n",
    "        \n",
    "        ofc3 = F.relu(self.fc3(self.h2))\n",
    "        out = self.fc4(ofc3)\n",
    "        return out\n",
    "    \n",
    "    def init_hidden(self):\n",
    "        self.h1 = Variable(torch.zeros(1, L1)).double()\n",
    "        self.h2 = Variable(torch.zeros(1, L2)).double()\n",
    "        return"
   ]
  },
  {
   "cell_type": "code",
   "execution_count": 10,
   "metadata": {
    "collapsed": true
   },
   "outputs": [],
   "source": [
    "# Loss and Optimizer\n",
    "model = Network2()\n",
    "lr    = 1e-3\n",
    "criterion = nn.CrossEntropyLoss()\n",
    "optimizer = torch.optim.Adam(model.parameters(), lr=lr)"
   ]
  },
  {
   "cell_type": "code",
   "execution_count": 11,
   "metadata": {
    "collapsed": true
   },
   "outputs": [
    {
     "name": "stdout",
     "output_type": "stream",
     "text": [
      "Epoch [1/20], Loss: 2.2931\n",
      "Epoch [2/20], Loss: 2.3078\n",
      "Epoch [3/20], Loss: 2.2267\n",
      "Epoch [4/20], Loss: 2.1250\n",
      "Epoch [5/20], Loss: 1.8549\n",
      "Epoch [6/20], Loss: 2.3288\n",
      "Epoch [7/20], Loss: 1.6596\n",
      "Epoch [8/20], Loss: 1.6790\n",
      "Epoch [9/20], Loss: 1.2753\n",
      "Epoch [10/20], Loss: 1.2870\n",
      "Epoch [11/20], Loss: 1.1919\n",
      "Epoch [12/20], Loss: 1.3470\n",
      "Epoch [13/20], Loss: 1.2229\n",
      "Epoch [14/20], Loss: 1.3620\n",
      "Epoch [15/20], Loss: 1.3681\n",
      "Epoch [16/20], Loss: 1.2838\n",
      "Epoch [17/20], Loss: 0.7834\n",
      "Epoch [18/20], Loss: 1.0996\n"
     ]
    },
    {
     "ename": "KeyboardInterrupt",
     "evalue": "",
     "output_type": "error",
     "traceback": [
      "\u001b[0;31m---------------------------------------------------------------------------\u001b[0m",
      "\u001b[0;31mKeyboardInterrupt\u001b[0m                         Traceback (most recent call last)",
      "\u001b[0;32m<ipython-input-11-a016113e7318>\u001b[0m in \u001b[0;36m<module>\u001b[0;34m()\u001b[0m\n\u001b[1;32m     10\u001b[0m         \u001b[0mloss\u001b[0m \u001b[0;34m=\u001b[0m \u001b[0mcriterion\u001b[0m\u001b[0;34m(\u001b[0m\u001b[0mout\u001b[0m\u001b[0;34m,\u001b[0m\u001b[0my\u001b[0m\u001b[0;34m)\u001b[0m   \u001b[0;31m# Compute Loss\u001b[0m\u001b[0;34m\u001b[0m\u001b[0m\n\u001b[1;32m     11\u001b[0m \u001b[0;31m#         loss.backward()           # Backward\u001b[0m\u001b[0;34m\u001b[0m\u001b[0;34m\u001b[0m\u001b[0m\n\u001b[0;32m---> 12\u001b[0;31m         \u001b[0mloss\u001b[0m\u001b[0;34m.\u001b[0m\u001b[0mbackward\u001b[0m\u001b[0;34m(\u001b[0m\u001b[0mretain_graph\u001b[0m\u001b[0;34m=\u001b[0m\u001b[0mTrue\u001b[0m\u001b[0;34m)\u001b[0m           \u001b[0;31m# Backward\u001b[0m\u001b[0;34m\u001b[0m\u001b[0m\n\u001b[0m\u001b[1;32m     13\u001b[0m         \u001b[0moptimizer\u001b[0m\u001b[0;34m.\u001b[0m\u001b[0mstep\u001b[0m\u001b[0;34m(\u001b[0m\u001b[0;34m)\u001b[0m          \u001b[0;31m# Optimize\u001b[0m\u001b[0;34m\u001b[0m\u001b[0m\n\u001b[1;32m     14\u001b[0m \u001b[0;34m\u001b[0m\u001b[0m\n",
      "\u001b[0;32m/Users/Junior/anaconda2/lib/python2.7/site-packages/torch/autograd/variable.pyc\u001b[0m in \u001b[0;36mbackward\u001b[0;34m(self, gradient, retain_graph, create_graph, retain_variables)\u001b[0m\n\u001b[1;32m    165\u001b[0m                 \u001b[0mVariable\u001b[0m\u001b[0;34m.\u001b[0m\u001b[0;34m\u001b[0m\u001b[0m\n\u001b[1;32m    166\u001b[0m         \"\"\"\n\u001b[0;32m--> 167\u001b[0;31m         \u001b[0mtorch\u001b[0m\u001b[0;34m.\u001b[0m\u001b[0mautograd\u001b[0m\u001b[0;34m.\u001b[0m\u001b[0mbackward\u001b[0m\u001b[0;34m(\u001b[0m\u001b[0mself\u001b[0m\u001b[0;34m,\u001b[0m \u001b[0mgradient\u001b[0m\u001b[0;34m,\u001b[0m \u001b[0mretain_graph\u001b[0m\u001b[0;34m,\u001b[0m \u001b[0mcreate_graph\u001b[0m\u001b[0;34m,\u001b[0m \u001b[0mretain_variables\u001b[0m\u001b[0;34m)\u001b[0m\u001b[0;34m\u001b[0m\u001b[0m\n\u001b[0m\u001b[1;32m    168\u001b[0m \u001b[0;34m\u001b[0m\u001b[0m\n\u001b[1;32m    169\u001b[0m     \u001b[0;32mdef\u001b[0m \u001b[0mregister_hook\u001b[0m\u001b[0;34m(\u001b[0m\u001b[0mself\u001b[0m\u001b[0;34m,\u001b[0m \u001b[0mhook\u001b[0m\u001b[0;34m)\u001b[0m\u001b[0;34m:\u001b[0m\u001b[0;34m\u001b[0m\u001b[0m\n",
      "\u001b[0;32m/Users/Junior/anaconda2/lib/python2.7/site-packages/torch/autograd/__init__.pyc\u001b[0m in \u001b[0;36mbackward\u001b[0;34m(variables, grad_variables, retain_graph, create_graph, retain_variables)\u001b[0m\n\u001b[1;32m     97\u001b[0m \u001b[0;34m\u001b[0m\u001b[0m\n\u001b[1;32m     98\u001b[0m     Variable._execution_engine.run_backward(\n\u001b[0;32m---> 99\u001b[0;31m         variables, grad_variables, retain_graph)\n\u001b[0m\u001b[1;32m    100\u001b[0m \u001b[0;34m\u001b[0m\u001b[0m\n\u001b[1;32m    101\u001b[0m \u001b[0;34m\u001b[0m\u001b[0m\n",
      "\u001b[0;31mKeyboardInterrupt\u001b[0m: "
     ]
    }
   ],
   "source": [
    "# Train Model\n",
    "for epoch in range(num_epochs):\n",
    "    model.init_hidden()\n",
    "    for i, (x,y) in enumerate(tr_loader):\n",
    "        x = Variable(x.permute(2,0,1)) \n",
    "        y = Variable(y)   # Make variables\n",
    "\n",
    "        optimizer.zero_grad()     # Zero gradients\n",
    "        out  = model(x)           # Forward\n",
    "        loss = criterion(out,y)   # Compute Loss\n",
    "#         loss.backward()           # Backward\n",
    "        loss.backward(retain_graph=True)           # Backward\n",
    "        optimizer.step()          # Optimize\n",
    "        \n",
    "    print ('Epoch [%d/%d], Loss: %.4f' %(epoch+1, num_epochs, loss.data[0]))\n",
    "\n",
    "print('Finished Training')"
   ]
  },
  {
   "cell_type": "code",
   "execution_count": 12,
   "metadata": {},
   "outputs": [
    {
     "data": {
      "text/plain": [
       "10"
      ]
     },
     "execution_count": 12,
     "metadata": {},
     "output_type": "execute_result"
    }
   ],
   "source": [
    "nclass"
   ]
  },
  {
   "cell_type": "code",
   "execution_count": null,
   "metadata": {
    "collapsed": true
   },
   "outputs": [],
   "source": []
  }
 ],
 "metadata": {
  "kernelspec": {
   "display_name": "Python 2",
   "language": "python",
   "name": "python2"
  },
  "language_info": {
   "codemirror_mode": {
    "name": "ipython",
    "version": 2
   },
   "file_extension": ".py",
   "mimetype": "text/x-python",
   "name": "python",
   "nbconvert_exporter": "python",
   "pygments_lexer": "ipython2",
   "version": "2.7.14"
  }
 },
 "nbformat": 4,
 "nbformat_minor": 2
}
