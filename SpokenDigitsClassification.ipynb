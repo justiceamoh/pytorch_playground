{
 "cells": [
  {
   "cell_type": "code",
   "execution_count": 1,
   "metadata": {},
   "outputs": [],
   "source": [
    "%matplotlib inline\n",
    "import IPython.display\n",
    "\n",
    "# Basic Imports\n",
    "import gzip\n",
    "import cPickle as pickle\n",
    "import pandas as pd\n",
    "import random\n",
    "import seaborn\n",
    "# import librosa\n",
    "import sklearn\n",
    "import numpy as np\n",
    "from matplotlib import pyplot as plt\n",
    "\n",
    "# PyTorch\n",
    "import torch\n",
    "import torch.nn as nn\n",
    "import torch.optim as optim\n",
    "import torch.nn.functional as F\n",
    "import torch.utils.data as data_utils\n",
    "from torch.autograd import Variable"
   ]
  },
  {
   "cell_type": "markdown",
   "metadata": {},
   "source": [
    "## Load Data"
   ]
  },
  {
   "cell_type": "code",
   "execution_count": 2,
   "metadata": {},
   "outputs": [
    {
     "name": "stdout",
     "output_type": "stream",
     "text": [
      "File loaded as ../vae/SpokenDigitDB.pkl.gz\n"
     ]
    }
   ],
   "source": [
    "# Loaded Spoken Digits Dataset\n",
    "dbfile ='../vae/SpokenDigitDB.pkl.gz'\n",
    "with gzip.open(dbfile, 'rb') as ifile:\n",
    "    df = pd.read_pickle(ifile)\n",
    "    print('File loaded as '+ dbfile)"
   ]
  },
  {
   "cell_type": "code",
   "execution_count": 3,
   "metadata": {},
   "outputs": [
    {
     "name": "stdout",
     "output_type": "stream",
     "text": [
      "[84]\n"
     ]
    }
   ],
   "source": [
    "# Padding & Truncating\n",
    "maxlen = 84\n",
    "pad    = lambda a, n: a[:,0: n] if a.shape[1] > n else np.hstack((a, np.min(a[:])*np.ones([a.shape[0],n - a.shape[1]])))\n",
    "df.Magnitude = df.Magnitude.apply(pad,args=(maxlen,))  # MaxLen Truncation Voodoo :D\n",
    "print(np.unique([np.shape(x)[1] for x in df.Magnitude]))"
   ]
  },
  {
   "cell_type": "code",
   "execution_count": 4,
   "metadata": {},
   "outputs": [
    {
     "data": {
      "text/html": [
       "\n",
       "                <audio controls=\"controls\" >\n",
       "                    <source src=\"data:audio/wav;base64,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\" type=\"audio/wav\" />\n",
       "                    Your browser does not support the audio element.\n",
       "                </audio>\n",
       "              "
      ],
      "text/plain": [
       "<IPython.lib.display.Audio object>"
      ]
     },
     "execution_count": 4,
     "metadata": {},
     "output_type": "execute_result"
    }
   ],
   "source": [
    "# Random Sample\n",
    "sr = 8000  \n",
    "j  = random.randrange(len(df))\n",
    "IPython.display.Audio(data=df.Wave[j], rate=sr)"
   ]
  },
  {
   "cell_type": "markdown",
   "metadata": {},
   "source": [
    "## Data Preparation"
   ]
  },
  {
   "cell_type": "code",
   "execution_count": 5,
   "metadata": {
    "scrolled": true
   },
   "outputs": [
    {
     "name": "stdout",
     "output_type": "stream",
     "text": [
      "Training Feature size: (335, 64, 84)\n",
      "Training Target  size: (335,)\n",
      "\n",
      "Testing  Feature size: (166, 64, 84)\n",
      "Testing  Target  size: (166,)\n"
     ]
    }
   ],
   "source": [
    "# Prepare Data\n",
    "from sklearn.preprocessing import StandardScaler, MinMaxScaler\n",
    "from sklearn.model_selection import train_test_split\n",
    "\n",
    "# Train Scaler\n",
    "x_data = df.Magnitude.values\n",
    "normsc = np.hstack(x_data)\n",
    "scaler = MinMaxScaler().fit(normsc.T)\n",
    "\n",
    "# Transform Data using Scaler\n",
    "x_data = [scaler.transform(arr.T).T for arr in df.Magnitude.values]\n",
    "x_data = np.dstack(x_data).transpose(2,0,1)\n",
    "\n",
    "# Add Singleton\n",
    "# x_data = x_data[...,None]         # Add singleton class\n",
    "# y_data = pd.get_dummies(df.Class).values # One Hot Encoding\n",
    "y_data = df.Class.cat.codes.values.astype('int')\n",
    "\n",
    "# Shuffle & Split\n",
    "x_train,x_test,y_train,y_test=train_test_split(x_data,y_data,\n",
    "                              test_size=0.33, random_state=32)\n",
    "\n",
    "# Print Dimensions\n",
    "print 'Training Feature size:', x_train.shape\n",
    "print 'Training Target  size:', y_train.shape\n",
    "print ''\n",
    "print 'Testing  Feature size:', x_test.shape\n",
    "print 'Testing  Target  size:', y_test.shape"
   ]
  },
  {
   "cell_type": "code",
   "execution_count": 6,
   "metadata": {},
   "outputs": [],
   "source": [
    "# Create Torch DataLoader\n",
    "# Training Set\n",
    "feats  = torch.from_numpy(x_train)\n",
    "targs  = torch.from_numpy(y_train)\n",
    "dtrain = data_utils.TensorDataset(feats, targs)\n",
    "\n",
    "# Testing Set\n",
    "feats  = torch.from_numpy(x_test)\n",
    "targs  = torch.from_numpy(y_test)\n",
    "dtest  = data_utils.TensorDataset(feats, targs)\n",
    "\n",
    "# Loaders\n",
    "tr_loader = data_utils.DataLoader(dtrain,batch_size=10,shuffle=True,drop_last=True)\n",
    "ts_loader = data_utils.DataLoader(dtest, batch_size=5, shuffle=True,drop_last=True)"
   ]
  },
  {
   "cell_type": "markdown",
   "metadata": {},
   "source": [
    "## Recurrent Network Model"
   ]
  },
  {
   "cell_type": "code",
   "execution_count": 50,
   "metadata": {
    "collapsed": true
   },
   "outputs": [],
   "source": [
    "# Input Dimensions\n",
    "_,fbins,steps = tr_loader.dataset.data_tensor.shape\n",
    "nclass = len(np.unique(tr_loader.dataset.target_tensor))\n",
    "\n",
    "# Parameters\n",
    "L1 = 32\n",
    "L2 = 20\n",
    "L3 = 16\n",
    "\n",
    "num_epochs = 20\n",
    "batch_size = tr_loader.batch_size"
   ]
  },
  {
   "cell_type": "code",
   "execution_count": 8,
   "metadata": {},
   "outputs": [],
   "source": [
    "# # Using Cell, With Time Loop \n",
    "# gru1 = nn.GRUCell(fbins,L1).double()\n",
    "# gru2 = nn.GRUCell(L1,L2).double()\n",
    "# fc3  = nn.Linear(L2,L3).double()\n",
    "# fc4  = nn.Linear(L3,nclass).double()\n",
    "\n",
    "# ht1 = Variable(torch.zeros(1, L1)).double()\n",
    "# ht2 = Variable(torch.zeros(1, L2)).double()\n",
    "\n",
    "# for i, data in enumerate(tr_loader):\n",
    "#     outputs = []\n",
    "#     x,y = data\n",
    "#     x,y = Variable(x.permute(2,0,1)),Variable(y)\n",
    "    \n",
    "#     for xt1 in x:\n",
    "#         ht1 = gru1(xt1,ht1)\n",
    "#         ht2 = gru2(ht1,ht2)\n",
    "        \n",
    "#     ot3 = F.relu(fc3(ht2))\n",
    "#     out = fc4(ot3)\n",
    "# #     outputs += [out]\n",
    "# #     break"
   ]
  },
  {
   "cell_type": "code",
   "execution_count": 55,
   "metadata": {
    "collapsed": true
   },
   "outputs": [],
   "source": [
    "# StateLess\n",
    "class Network(nn.Module):\n",
    "    def __init__(self):\n",
    "        super(Network, self).__init__() \n",
    "        self.gru1 = nn.GRUCell(fbins,L1).double()\n",
    "        self.gru2 = nn.GRUCell(L1,L2).double()\n",
    "        self.fc3  = nn.Linear(L2,L3).double()\n",
    "        self.fc4  = nn.Linear(L3,nclass).double()\n",
    "              \n",
    "    def forward(self,inputs):\n",
    "        h1 = Variable(torch.zeros(1, L1)).double()\n",
    "        h2 = Variable(torch.zeros(1, L2)).double()\n",
    "        for x in inputs:\n",
    "            h1 = self.gru1(x,h1)\n",
    "            h2 = self.gru2(h1,h2)            \n",
    "        ofc3 = F.relu(self.fc3(h2))\n",
    "        out = self.fc4(ofc3)\n",
    "        return out"
   ]
  },
  {
   "cell_type": "code",
   "execution_count": 47,
   "metadata": {
    "collapsed": true
   },
   "outputs": [],
   "source": [
    "# StateFul\n",
    "class Network(nn.Module):\n",
    "    def __init__(self):\n",
    "        super(Network, self).__init__() \n",
    "        self.gru1 = nn.GRUCell(fbins,L1).double()\n",
    "        self.gru2 = nn.GRUCell(L1,L2).double()\n",
    "        self.fc3  = nn.Linear(L2,L3).double()\n",
    "        self.fc4  = nn.Linear(L3,nclass).double()\n",
    "        \n",
    "        self.h1   = Variable(torch.zeros(1, L1)).double()\n",
    "        self.h2   = Variable(torch.zeros(1, L2)).double()\n",
    "              \n",
    "    def forward(self,inputs):\n",
    "        for x in inputs:\n",
    "            self.h1 = self.gru1(x,self.h1)\n",
    "            self.h2 = self.gru2(self.h1,self.h2)\n",
    "\n",
    "        ofc3 = F.relu(self.fc3(self.h2))\n",
    "        out = self.fc4(ofc3)\n",
    "        return out\n",
    "    \n",
    "    def init_hidden(self):\n",
    "        self.h1 = Variable(torch.zeros(1, L1)).double()\n",
    "        self.h2 = Variable(torch.zeros(1, L2)).double()\n",
    "        return"
   ]
  },
  {
   "cell_type": "code",
   "execution_count": 56,
   "metadata": {},
   "outputs": [],
   "source": [
    "# Loss and Optimizer\n",
    "model = Network()\n",
    "lr    = 1e-4\n",
    "criterion = nn.CrossEntropyLoss()\n",
    "optimizer = torch.optim.Adam(model.parameters(), lr=lr)"
   ]
  },
  {
   "cell_type": "code",
   "execution_count": null,
   "metadata": {},
   "outputs": [
    {
     "name": "stdout",
     "output_type": "stream",
     "text": [
      "Epoch [1/20], Loss: 2.3656\n",
      "Epoch [2/20], Loss: 2.2958\n",
      "Epoch [3/20], Loss: 2.2806\n",
      "Epoch [4/20], Loss: 2.2882\n",
      "Epoch [5/20], Loss: 2.2505\n",
      "Epoch [6/20], Loss: 2.2104\n",
      "Epoch [7/20], Loss: 2.2605\n",
      "Epoch [8/20], Loss: 2.2588\n",
      "Epoch [9/20], Loss: 2.2428\n",
      "Epoch [10/20], Loss: 2.2117\n",
      "Epoch [11/20], Loss: 2.2536\n",
      "Epoch [12/20], Loss: 2.2399\n",
      "Epoch [13/20], Loss: 2.2496\n"
     ]
    }
   ],
   "source": [
    "# Train Model\n",
    "for epoch in range(num_epochs):\n",
    "#     model.init_hidden()\n",
    "    for i, (x,y) in enumerate(tr_loader):\n",
    "        x = Variable(x.permute(2,0,1)) \n",
    "        y = Variable(y)   # Make variables\n",
    "\n",
    "        optimizer.zero_grad()     # Zero gradients\n",
    "        out  = model(x)           # Forward\n",
    "        loss = criterion(out,y)   # Compute Loss\n",
    "        loss.backward()           # Backward\n",
    "        optimizer.step()          # Optimize\n",
    "        \n",
    "    print ('Epoch [%d/%d], Loss: %.4f' %(epoch+1, num_epochs, loss.data[0]))\n",
    "\n",
    "print('Finished Training')"
   ]
  },
  {
   "cell_type": "code",
   "execution_count": null,
   "metadata": {
    "collapsed": true
   },
   "outputs": [],
   "source": []
  }
 ],
 "metadata": {
  "kernelspec": {
   "display_name": "Python 2",
   "language": "python",
   "name": "python2"
  },
  "language_info": {
   "codemirror_mode": {
    "name": "ipython",
    "version": 2
   },
   "file_extension": ".py",
   "mimetype": "text/x-python",
   "name": "python",
   "nbconvert_exporter": "python",
   "pygments_lexer": "ipython2",
   "version": "2.7.14"
  }
 },
 "nbformat": 4,
 "nbformat_minor": 2
}
